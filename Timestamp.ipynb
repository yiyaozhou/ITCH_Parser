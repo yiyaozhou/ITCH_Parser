{
 "cells": [
  {
   "cell_type": "code",
   "execution_count": 4,
   "metadata": {},
   "outputs": [],
   "source": [
    "import datetime\n",
    "dt = datetime.datetime.utcfromtimestamp(34200000036157/1e9)"
   ]
  },
  {
   "cell_type": "code",
   "execution_count": 5,
   "metadata": {},
   "outputs": [
    {
     "data": {
      "text/plain": [
       "'1970-01-01 09:30:00'"
      ]
     },
     "execution_count": 5,
     "metadata": {},
     "output_type": "execute_result"
    }
   ],
   "source": [
    "dt.strftime('%Y-%m-%d %H:%M:%S')"
   ]
  },
  {
   "cell_type": "code",
   "execution_count": 7,
   "metadata": {},
   "outputs": [
    {
     "data": {
      "text/plain": [
       "'09:30:00.000036'"
      ]
     },
     "execution_count": 7,
     "metadata": {},
     "output_type": "execute_result"
    }
   ],
   "source": [
    "dt.strftime('%H:%M:%S.%f')"
   ]
  },
  {
   "cell_type": "code",
   "execution_count": 57,
   "metadata": {},
   "outputs": [
    {
     "data": {
      "text/plain": [
       "datetime.timedelta(seconds=14400, microseconds=566)"
      ]
     },
     "execution_count": 57,
     "metadata": {},
     "output_type": "execute_result"
    }
   ],
   "source": [
    "datetime.datetime.utcfromtimestamp(14400000565835/1e9) - datetime.datetime.strptime('1970-01-01', '%Y-%m-%d')"
   ]
  },
  {
   "cell_type": "code",
   "execution_count": null,
   "metadata": {},
   "outputs": [],
   "source": [
    "def format_timestamp(timestamp):\n",
    "    datetime.datetime.utcfromtimestamp(timestamp/1e9)"
   ]
  },
  {
   "cell_type": "code",
   "execution_count": 11,
   "metadata": {},
   "outputs": [],
   "source": [
    "pre_trade_time = datetime.datetime.utcfromtimestamp(14400000565835/1e9).strftime('%H:%M:%S.%f') "
   ]
  },
  {
   "cell_type": "code",
   "execution_count": 12,
   "metadata": {},
   "outputs": [],
   "source": [
    "trade_time = datetime.datetime.utcfromtimestamp(34200000036157/1e9).strftime('%H:%M:%S.%f')"
   ]
  },
  {
   "cell_type": "code",
   "execution_count": 15,
   "metadata": {},
   "outputs": [
    {
     "ename": "TypeError",
     "evalue": "'module' object is not callable",
     "output_type": "error",
     "traceback": [
      "\u001b[1;31m---------------------------------------------------------------------------\u001b[0m",
      "\u001b[1;31mTypeError\u001b[0m                                 Traceback (most recent call last)",
      "\u001b[1;32m<ipython-input-15-78a91d40d270>\u001b[0m in \u001b[0;36m<module>\u001b[1;34m\u001b[0m\n\u001b[1;32m----> 1\u001b[1;33m \u001b[0mdatetime\u001b[0m\u001b[1;33m(\u001b[0m\u001b[0mtype\u001b[0m\u001b[1;33m(\u001b[0m\u001b[0mpre_trade_time\u001b[0m\u001b[1;33m)\u001b[0m\u001b[1;33m)\u001b[0m\u001b[1;33m\u001b[0m\u001b[1;33m\u001b[0m\u001b[0m\n\u001b[0m",
      "\u001b[1;31mTypeError\u001b[0m: 'module' object is not callable"
     ]
    }
   ],
   "source": [
    "datetime(type(pre_trade_time))"
   ]
  },
  {
   "cell_type": "code",
   "execution_count": 19,
   "metadata": {},
   "outputs": [],
   "source": [
    "delta = datetime.datetime.utcfromtimestamp(34200000036157/1e9) - datetime.datetime.utcfromtimestamp(14400000565835/1e9)"
   ]
  },
  {
   "cell_type": "code",
   "execution_count": 22,
   "metadata": {},
   "outputs": [
    {
     "data": {
      "text/plain": [
       "5.499999852777777"
      ]
     },
     "execution_count": 22,
     "metadata": {},
     "output_type": "execute_result"
    }
   ],
   "source": [
    "delta.total_seconds()/3600"
   ]
  },
  {
   "cell_type": "code",
   "execution_count": null,
   "metadata": {},
   "outputs": [],
   "source": [
    "# once pass the time interval, calculate once\n",
    "# time_interval list:\n"
   ]
  },
  {
   "cell_type": "code",
   "execution_count": null,
   "metadata": {},
   "outputs": [],
   "source": [
    "# Global variable\n",
    "globvar = 0\n",
    "\n",
    "def set_globvar_to_one():\n",
    "    global globvar    # Needed to modify global copy of globvar\n",
    "    globvar = 1"
   ]
  },
  {
   "cell_type": "code",
   "execution_count": 2,
   "metadata": {},
   "outputs": [],
   "source": [
    "import pandas as pd\n",
    "import os\n",
    "import numpy as np\n",
    "\n",
    "from joblib import Parallel, delayed\n",
    "import string\n",
    "import math\n",
    "\n",
    "import gzip\n",
    "import csv\n",
    "#import struct\n",
    "import os\n",
    "os.chdir(r\"C:\\Users\\80184795\\Documents\\git_clones\\ITCH\")"
   ]
  },
  {
   "cell_type": "code",
   "execution_count": 50,
   "metadata": {},
   "outputs": [],
   "source": [
    "import datetime\n",
    "def format_timestamp(timestamp):\n",
    "    time = datetime.datetime.utcfromtimestamp(timestamp/1e9)\n",
    "    return time\n",
    "    \n",
    "def parse_system_event_message(f, order, execute):\n",
    "    data = f.read(11)\n",
    "    stock_locate = int.from_bytes(data[:1], byteorder='big', signed=False)\n",
    "    tracking_num = int.from_bytes(data[2:4], byteorder='big', signed=False)\n",
    "    timestamp = format_timestamp(int.from_bytes(data[4:10], byteorder='big', signed=False))\n",
    "    event_code = data[10:11]\n",
    "    print(stock_locate, \" , \", tracking_num, \" , \", timestamp, \" , \", event_code)\n",
    "    system[event_code] = {\n",
    "        'stock_locate': stock_locate,\n",
    "        'tracking_num': tracking_num,\n",
    "        'timestamp': timestamp,\n",
    "        'event_code': event_code}\n",
    "    return timestamp\n",
    "    \n",
    "def parse_stock_dictionary(f, order, execute):\n",
    "    data = f.read(38)\n",
    "    stock_locate = int.from_bytes(data[:2], byteorder='big', signed=False)\n",
    "    tracking_num = int.from_bytes(data[2:4], byteorder='big', signed=False)\n",
    "    timestamp = format_timestamp(int.from_bytes(data[4:10], byteorder='big', signed=False))\n",
    "    stock = str(data[10:18], 'ascii').strip()\n",
    "    print(stock_locate, \" , \", tracking_num, \" , \", timestamp, \" , \", stock)\n",
    "    stock_dict[stock] = {\n",
    "        'stock_locate': stock_locate,\n",
    "        'tracking_num': tracking_num,\n",
    "        'timestamp': timestamp,\n",
    "        'stock': stock}\n",
    "    return timestamp\n",
    "\n",
    "\n",
    "handling_funcs = {\n",
    "    b'S' : parse_system_event_message             ,\n",
    "    b'R' : parse_stock_dictionary}"
   ]
  },
  {
   "cell_type": "code",
   "execution_count": 49,
   "metadata": {},
   "outputs": [],
   "source": [
    "format_timestamp(11039687760787)"
   ]
  },
  {
   "cell_type": "code",
   "execution_count": 51,
   "metadata": {},
   "outputs": [
    {
     "name": "stdout",
     "output_type": "stream",
     "text": [
      "0  ,  0  ,  1970-01-01 03:03:59.687761  ,  b'O'\n",
      "1  ,  0  ,  1970-01-01 03:08:34.234546  ,  A\n",
      "2  ,  0  ,  1970-01-01 03:08:34.236108  ,  AA\n",
      "3  ,  0  ,  1970-01-01 03:08:34.236162  ,  AAAU\n",
      "4  ,  0  ,  1970-01-01 03:08:34.236207  ,  AABA\n",
      "5  ,  0  ,  1970-01-01 03:08:34.236262  ,  AAC\n",
      "6  ,  0  ,  1970-01-01 03:08:34.236318  ,  AADR\n",
      "7  ,  0  ,  1970-01-01 03:08:34.236366  ,  AAL\n",
      "8  ,  0  ,  1970-01-01 03:08:34.236406  ,  AAMC\n",
      "9  ,  0  ,  1970-01-01 03:08:34.236446  ,  AAME\n",
      "10  ,  0  ,  1970-01-01 03:08:34.236485  ,  AAN\n",
      "11  ,  0  ,  1970-01-01 03:08:34.236523  ,  AAOI\n",
      "12  ,  0  ,  1970-01-01 03:08:34.236560  ,  AAON\n",
      "13  ,  0  ,  1970-01-01 03:08:34.236598  ,  AAP\n",
      "14  ,  0  ,  1970-01-01 03:08:34.236639  ,  AAPL\n",
      "15  ,  0  ,  1970-01-01 03:08:34.236679  ,  AAT\n",
      "16  ,  0  ,  1970-01-01 03:08:34.236717  ,  AAU\n",
      "17  ,  0  ,  1970-01-01 03:08:34.236755  ,  AAWW\n",
      "18  ,  0  ,  1970-01-01 03:08:34.236792  ,  AAXJ\n",
      "19  ,  0  ,  1970-01-01 03:08:34.236830  ,  AAXN\n",
      "20  ,  0  ,  1970-01-01 03:08:34.236868  ,  AB\n",
      "21  ,  0  ,  1970-01-01 03:08:34.236906  ,  ABB\n",
      "22  ,  0  ,  1970-01-01 03:08:34.236946  ,  ABBV\n",
      "23  ,  0  ,  1970-01-01 03:08:34.236983  ,  ABC\n",
      "24  ,  0  ,  1970-01-01 03:08:34.237021  ,  ABCB\n",
      "25  ,  0  ,  1970-01-01 03:08:34.237059  ,  ABDC\n",
      "26  ,  0  ,  1970-01-01 03:08:34.237099  ,  ABEO\n",
      "27  ,  0  ,  1970-01-01 03:08:34.237138  ,  ABEOW\n",
      "28  ,  0  ,  1970-01-01 03:08:34.237175  ,  ABEV\n",
      "29  ,  0  ,  1970-01-01 03:08:34.237212  ,  ABG\n",
      "30  ,  0  ,  1970-01-01 03:08:34.237254  ,  ABIL\n",
      "31  ,  0  ,  1970-01-01 03:08:34.237291  ,  ABIO\n",
      "32  ,  0  ,  1970-01-01 03:08:34.237333  ,  ABM\n",
      "33  ,  0  ,  1970-01-01 03:08:34.237371  ,  ABMD\n",
      "34  ,  0  ,  1970-01-01 03:08:34.237408  ,  ABR\n",
      "35  ,  0  ,  1970-01-01 03:08:34.237445  ,  ABR-A\n",
      "36  ,  0  ,  1970-01-01 03:08:34.237482  ,  ABR-B\n",
      "37  ,  0  ,  1970-01-01 03:08:34.237519  ,  ABR-C\n"
     ]
    },
    {
     "ename": "KeyError",
     "evalue": "b'H'",
     "output_type": "error",
     "traceback": [
      "\u001b[1;31m---------------------------------------------------------------------------\u001b[0m",
      "\u001b[1;31mKeyError\u001b[0m                                  Traceback (most recent call last)",
      "\u001b[1;32m<ipython-input-51-ef07321149de>\u001b[0m in \u001b[0;36m<module>\u001b[1;34m\u001b[0m\n\u001b[0;32m      8\u001b[0m     \u001b[1;32mwhile\u001b[0m \u001b[1;32mTrue\u001b[0m\u001b[1;33m:\u001b[0m\u001b[1;33m\u001b[0m\u001b[1;33m\u001b[0m\u001b[0m\n\u001b[0;32m      9\u001b[0m         \u001b[0mf\u001b[0m\u001b[1;33m.\u001b[0m\u001b[0mread\u001b[0m\u001b[1;33m(\u001b[0m\u001b[1;36m2\u001b[0m\u001b[1;33m)\u001b[0m \u001b[1;31m# Entries are separated by two zero bytes.\u001b[0m\u001b[1;33m\u001b[0m\u001b[1;33m\u001b[0m\u001b[0m\n\u001b[1;32m---> 10\u001b[1;33m         \u001b[0mtimestamp\u001b[0m \u001b[1;33m=\u001b[0m \u001b[0mhandling_funcs\u001b[0m\u001b[1;33m[\u001b[0m\u001b[0mf\u001b[0m\u001b[1;33m.\u001b[0m\u001b[0mread\u001b[0m\u001b[1;33m(\u001b[0m\u001b[1;36m1\u001b[0m\u001b[1;33m)\u001b[0m\u001b[1;33m]\u001b[0m\u001b[1;33m(\u001b[0m\u001b[0mf\u001b[0m\u001b[1;33m,\u001b[0m \u001b[0morder\u001b[0m\u001b[1;33m,\u001b[0m \u001b[0mexecuted\u001b[0m\u001b[1;33m)\u001b[0m\u001b[1;33m\u001b[0m\u001b[1;33m\u001b[0m\u001b[0m\n\u001b[0m\u001b[0;32m     11\u001b[0m         \u001b[1;31m# if (timestamp - start_timestamp) % 1hour == 0:\u001b[0m\u001b[1;33m\u001b[0m\u001b[1;33m\u001b[0m\u001b[1;33m\u001b[0m\u001b[0m\n\u001b[0;32m     12\u001b[0m             \u001b[1;31m# avg[(timestamp - start_timestamp) / 1hour] = weighted_avg(order, executed)\u001b[0m\u001b[1;33m\u001b[0m\u001b[1;33m\u001b[0m\u001b[1;33m\u001b[0m\u001b[0m\n",
      "\u001b[1;31mKeyError\u001b[0m: b'H'"
     ]
    }
   ],
   "source": [
    "with open(\"01302019.NASDAQ_ITCH50\", \"rb\") as f:\n",
    "    avg = {}\n",
    "    order = {}\n",
    "    executed = {}\n",
    "    system = {}\n",
    "    stock_dict = {}\n",
    "    start_timestamp = 0 # Initialize at somewhere\n",
    "    while True:\n",
    "        f.read(2) # Entries are separated by two zero bytes.\n",
    "        timestamp = handling_funcs[f.read(1)](f, order, executed)\n",
    "        # if (timestamp - start_timestamp) % 1hour == 0:\n",
    "            # avg[(timestamp - start_timestamp) / 1hour] = weighted_avg(order, executed)\n",
    "            # order = {}\n",
    "            # executed = {}"
   ]
  },
  {
   "cell_type": "code",
   "execution_count": 44,
   "metadata": {},
   "outputs": [
    {
     "data": {
      "text/plain": [
       "{b'O': {'stock_locate': 0,\n",
       "  'tracking_num': 0,\n",
       "  'timestamp': None,\n",
       "  'event_code': b'O'}}"
      ]
     },
     "execution_count": 44,
     "metadata": {},
     "output_type": "execute_result"
    }
   ],
   "source": [
    "system"
   ]
  },
  {
   "cell_type": "code",
   "execution_count": 45,
   "metadata": {},
   "outputs": [
    {
     "data": {
      "text/plain": [
       "{'A': {'stock_locate': 1, 'tracking_num': 0, 'timestamp': None, 'stock': 'A'},\n",
       " 'AA': {'stock_locate': 2,\n",
       "  'tracking_num': 0,\n",
       "  'timestamp': None,\n",
       "  'stock': 'AA'},\n",
       " 'AAAU': {'stock_locate': 3,\n",
       "  'tracking_num': 0,\n",
       "  'timestamp': None,\n",
       "  'stock': 'AAAU'},\n",
       " 'AABA': {'stock_locate': 4,\n",
       "  'tracking_num': 0,\n",
       "  'timestamp': None,\n",
       "  'stock': 'AABA'},\n",
       " 'AAC': {'stock_locate': 5,\n",
       "  'tracking_num': 0,\n",
       "  'timestamp': None,\n",
       "  'stock': 'AAC'},\n",
       " 'AADR': {'stock_locate': 6,\n",
       "  'tracking_num': 0,\n",
       "  'timestamp': None,\n",
       "  'stock': 'AADR'},\n",
       " 'AAL': {'stock_locate': 7,\n",
       "  'tracking_num': 0,\n",
       "  'timestamp': None,\n",
       "  'stock': 'AAL'},\n",
       " 'AAMC': {'stock_locate': 8,\n",
       "  'tracking_num': 0,\n",
       "  'timestamp': None,\n",
       "  'stock': 'AAMC'},\n",
       " 'AAME': {'stock_locate': 9,\n",
       "  'tracking_num': 0,\n",
       "  'timestamp': None,\n",
       "  'stock': 'AAME'},\n",
       " 'AAN': {'stock_locate': 10,\n",
       "  'tracking_num': 0,\n",
       "  'timestamp': None,\n",
       "  'stock': 'AAN'},\n",
       " 'AAOI': {'stock_locate': 11,\n",
       "  'tracking_num': 0,\n",
       "  'timestamp': None,\n",
       "  'stock': 'AAOI'},\n",
       " 'AAON': {'stock_locate': 12,\n",
       "  'tracking_num': 0,\n",
       "  'timestamp': None,\n",
       "  'stock': 'AAON'},\n",
       " 'AAP': {'stock_locate': 13,\n",
       "  'tracking_num': 0,\n",
       "  'timestamp': None,\n",
       "  'stock': 'AAP'},\n",
       " 'AAPL': {'stock_locate': 14,\n",
       "  'tracking_num': 0,\n",
       "  'timestamp': None,\n",
       "  'stock': 'AAPL'},\n",
       " 'AAT': {'stock_locate': 15,\n",
       "  'tracking_num': 0,\n",
       "  'timestamp': None,\n",
       "  'stock': 'AAT'},\n",
       " 'AAU': {'stock_locate': 16,\n",
       "  'tracking_num': 0,\n",
       "  'timestamp': None,\n",
       "  'stock': 'AAU'},\n",
       " 'AAWW': {'stock_locate': 17,\n",
       "  'tracking_num': 0,\n",
       "  'timestamp': None,\n",
       "  'stock': 'AAWW'},\n",
       " 'AAXJ': {'stock_locate': 18,\n",
       "  'tracking_num': 0,\n",
       "  'timestamp': None,\n",
       "  'stock': 'AAXJ'},\n",
       " 'AAXN': {'stock_locate': 19,\n",
       "  'tracking_num': 0,\n",
       "  'timestamp': None,\n",
       "  'stock': 'AAXN'},\n",
       " 'AB': {'stock_locate': 20,\n",
       "  'tracking_num': 0,\n",
       "  'timestamp': None,\n",
       "  'stock': 'AB'},\n",
       " 'ABB': {'stock_locate': 21,\n",
       "  'tracking_num': 0,\n",
       "  'timestamp': None,\n",
       "  'stock': 'ABB'},\n",
       " 'ABBV': {'stock_locate': 22,\n",
       "  'tracking_num': 0,\n",
       "  'timestamp': None,\n",
       "  'stock': 'ABBV'},\n",
       " 'ABC': {'stock_locate': 23,\n",
       "  'tracking_num': 0,\n",
       "  'timestamp': None,\n",
       "  'stock': 'ABC'},\n",
       " 'ABCB': {'stock_locate': 24,\n",
       "  'tracking_num': 0,\n",
       "  'timestamp': None,\n",
       "  'stock': 'ABCB'},\n",
       " 'ABDC': {'stock_locate': 25,\n",
       "  'tracking_num': 0,\n",
       "  'timestamp': None,\n",
       "  'stock': 'ABDC'},\n",
       " 'ABEO': {'stock_locate': 26,\n",
       "  'tracking_num': 0,\n",
       "  'timestamp': None,\n",
       "  'stock': 'ABEO'},\n",
       " 'ABEOW': {'stock_locate': 27,\n",
       "  'tracking_num': 0,\n",
       "  'timestamp': None,\n",
       "  'stock': 'ABEOW'},\n",
       " 'ABEV': {'stock_locate': 28,\n",
       "  'tracking_num': 0,\n",
       "  'timestamp': None,\n",
       "  'stock': 'ABEV'},\n",
       " 'ABG': {'stock_locate': 29,\n",
       "  'tracking_num': 0,\n",
       "  'timestamp': None,\n",
       "  'stock': 'ABG'},\n",
       " 'ABIL': {'stock_locate': 30,\n",
       "  'tracking_num': 0,\n",
       "  'timestamp': None,\n",
       "  'stock': 'ABIL'},\n",
       " 'ABIO': {'stock_locate': 31,\n",
       "  'tracking_num': 0,\n",
       "  'timestamp': None,\n",
       "  'stock': 'ABIO'},\n",
       " 'ABM': {'stock_locate': 32,\n",
       "  'tracking_num': 0,\n",
       "  'timestamp': None,\n",
       "  'stock': 'ABM'},\n",
       " 'ABMD': {'stock_locate': 33,\n",
       "  'tracking_num': 0,\n",
       "  'timestamp': None,\n",
       "  'stock': 'ABMD'},\n",
       " 'ABR': {'stock_locate': 34,\n",
       "  'tracking_num': 0,\n",
       "  'timestamp': None,\n",
       "  'stock': 'ABR'},\n",
       " 'ABR-A': {'stock_locate': 35,\n",
       "  'tracking_num': 0,\n",
       "  'timestamp': None,\n",
       "  'stock': 'ABR-A'},\n",
       " 'ABR-B': {'stock_locate': 36,\n",
       "  'tracking_num': 0,\n",
       "  'timestamp': None,\n",
       "  'stock': 'ABR-B'},\n",
       " 'ABR-C': {'stock_locate': 37,\n",
       "  'tracking_num': 0,\n",
       "  'timestamp': None,\n",
       "  'stock': 'ABR-C'}}"
      ]
     },
     "execution_count": 45,
     "metadata": {},
     "output_type": "execute_result"
    }
   ],
   "source": [
    "stock_dict"
   ]
  },
  {
   "cell_type": "code",
   "execution_count": 59,
   "metadata": {},
   "outputs": [
    {
     "ename": "KeyError",
     "evalue": "b'S'",
     "output_type": "error",
     "traceback": [
      "\u001b[1;31m---------------------------------------------------------------------------\u001b[0m",
      "\u001b[1;31mKeyError\u001b[0m                                  Traceback (most recent call last)",
      "\u001b[1;32m<ipython-input-59-b5cccb84d2d3>\u001b[0m in \u001b[0;36m<module>\u001b[1;34m\u001b[0m\n\u001b[1;32m----> 1\u001b[1;33m \u001b[0msystem\u001b[0m\u001b[1;33m[\u001b[0m\u001b[1;34mb'S'\u001b[0m\u001b[1;33m]\u001b[0m\u001b[1;33m\u001b[0m\u001b[1;33m\u001b[0m\u001b[0m\n\u001b[0m",
      "\u001b[1;31mKeyError\u001b[0m: b'S'"
     ]
    }
   ],
   "source": [
    "try:\n",
    "    start_timestamp = system[b'S']['timestamp']\n",
    "    print('Trading Starts')\n",
    "except:\n",
    "    pass"
   ]
  },
  {
   "cell_type": "code",
   "execution_count": 62,
   "metadata": {},
   "outputs": [
    {
     "data": {
      "text/plain": [
       "datetime.datetime(1970, 1, 1, 3, 3, 59, 687761)"
      ]
     },
     "execution_count": 62,
     "metadata": {},
     "output_type": "execute_result"
    }
   ],
   "source": [
    "system[b'O']['timestamp']"
   ]
  },
  {
   "cell_type": "code",
   "execution_count": null,
   "metadata": {},
   "outputs": [],
   "source": []
  }
 ],
 "metadata": {
  "kernelspec": {
   "display_name": "Python 3",
   "language": "python",
   "name": "python3"
  },
  "language_info": {
   "codemirror_mode": {
    "name": "ipython",
    "version": 3
   },
   "file_extension": ".py",
   "mimetype": "text/x-python",
   "name": "python",
   "nbconvert_exporter": "python",
   "pygments_lexer": "ipython3",
   "version": "3.7.3"
  }
 },
 "nbformat": 4,
 "nbformat_minor": 2
}
